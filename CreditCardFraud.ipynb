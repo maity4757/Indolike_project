{
 "cells": [
  {
   "cell_type": "code",
   "execution_count": 3,
   "id": "14559e14-91e8-40c8-a662-2902f76e3c78",
   "metadata": {},
   "outputs": [
    {
     "name": "stdout",
     "output_type": "stream",
     "text": [
      "Isolation Forest:\n",
      "              precision    recall  f1-score   support\n",
      "\n",
      "           0       1.00      1.00      1.00     28427\n",
      "           1       0.28      0.31      0.30        54\n",
      "\n",
      "    accuracy                           1.00     28481\n",
      "   macro avg       0.64      0.66      0.65     28481\n",
      "weighted avg       1.00      1.00      1.00     28481\n",
      "\n",
      "AUPRC: 0.09049664255269162\n",
      "\n",
      "Random Forest:\n",
      "              precision    recall  f1-score   support\n",
      "\n",
      "           0       1.00      1.00      1.00     28427\n",
      "           1       0.98      0.83      0.90        54\n",
      "\n",
      "    accuracy                           1.00     28481\n",
      "   macro avg       0.99      0.92      0.95     28481\n",
      "weighted avg       1.00      1.00      1.00     28481\n",
      "\n",
      "AUPRC: 0.8155333914447924\n",
      "\n",
      "XGBoost:\n",
      "              precision    recall  f1-score   support\n",
      "\n",
      "           0       1.00      1.00      1.00     28427\n",
      "           1       0.94      0.85      0.89        54\n",
      "\n",
      "    accuracy                           1.00     28481\n",
      "   macro avg       0.97      0.93      0.95     28481\n",
      "weighted avg       1.00      1.00      1.00     28481\n",
      "\n",
      "AUPRC: 0.7999785458542426\n"
     ]
    }
   ],
   "source": [
    "import pandas as pd\n",
    "from sklearn.model_selection import train_test_split\n",
    "from sklearn.preprocessing import StandardScaler\n",
    "from sklearn.ensemble import IsolationForest, RandomForestClassifier\n",
    "from sklearn.metrics import classification_report, average_precision_score\n",
    "import xgboost as xgb\n",
    "\n",
    "# Load data\n",
    "data = pd.read_csv(r\"C:\\Users\\hp\\Downloads\\creditcard.csv\")\n",
    "\n",
    "# Separate features and target\n",
    "X = data.drop('Class', axis=1)\n",
    "y = data['Class']\n",
    "\n",
    "# Split data (time-based split would be better)\n",
    "X_train, X_test, y_train, y_test = train_test_split(X, y, test_size=0.2, random_state=42, stratify=y)\n",
    "\n",
    "# Scale Amount and Time\n",
    "scaler = StandardScaler()\n",
    "X_train[['Amount', 'Time']] = scaler.fit_transform(X_train[['Amount', 'Time']])\n",
    "X_test[['Amount', 'Time']] = scaler.transform(X_test[['Amount', 'Time']])\n",
    "\n",
    "# Option 1: Isolation Forest (anomaly detection)\n",
    "iso_forest = IsolationForest(n_estimators=100, contamination=0.0017, random_state=42)\n",
    "iso_forest.fit(X_train)\n",
    "y_pred_iso = iso_forest.predict(X_test)\n",
    "y_pred_iso = [1 if x == -1 else 0 for x in y_pred_iso] # Convert to 0/1\n",
    "\n",
    "# Option 2: Random Forest with class weights\n",
    "rf = RandomForestClassifier(n_estimators=100, class_weight='balanced', random_state=42)\n",
    "rf.fit(X_train, y_train)\n",
    "y_pred_rf = rf.predict(X_test)\n",
    "\n",
    "# Option 3: XGBoost with scale_pos_weight\n",
    "scale_pos_weight = len(y_train[y_train==0])/len(y_train[y_train==1])\n",
    "xgb_model = xgb.XGBClassifier(scale_pos_weight=scale_pos_weight, random_state=42)\n",
    "xgb_model.fit(X_train, y_train)\n",
    "y_pred_xgb = xgb_model.predict(X_test)\n",
    "\n",
    "# Evaluate models\n",
    "print(\"Isolation Forest:\")\n",
    "print(classification_report(y_test, y_pred_iso))\n",
    "print(\"AUPRC:\", average_precision_score(y_test, y_pred_iso))\n",
    "\n",
    "print(\"\\nRandom Forest:\")\n",
    "print(classification_report(y_test, y_pred_rf))\n",
    "print(\"AUPRC:\", average_precision_score(y_test, y_pred_rf))\n",
    "\n",
    "print(\"\\nXGBoost:\")\n",
    "print(classification_report(y_test, y_pred_xgb))\n",
    "print(\"AUPRC:\", average_precision_score(y_test, y_pred_xgb))"
   ]
  },
  {
   "cell_type": "code",
   "execution_count": null,
   "id": "c4684e4d-c8ff-41f5-a9a9-ba6860235da3",
   "metadata": {},
   "outputs": [],
   "source": [
    "#Random forest turns out to be the best model for fraud detection followed by XGBoost.\n",
    "#Use Isolation Forest for initial anomaly screening → Flag suspicious cases.\n",
    "#Run Random Forest/XGBoost only on flagged cases → Reduce computational cost.\n",
    "\n"
   ]
  },
  {
   "cell_type": "code",
   "execution_count": 2,
   "id": "589f2572-fdcb-4171-9f34-a60583601910",
   "metadata": {},
   "outputs": [
    {
     "name": "stdout",
     "output_type": "stream",
     "text": [
      "Collecting xgboost\n",
      "  Downloading xgboost-3.0.2-py3-none-win_amd64.whl.metadata (2.1 kB)\n",
      "Requirement already satisfied: numpy in c:\\python313\\lib\\site-packages (from xgboost) (2.2.3)\n",
      "Requirement already satisfied: scipy in c:\\python313\\lib\\site-packages (from xgboost) (1.15.2)\n",
      "Downloading xgboost-3.0.2-py3-none-win_amd64.whl (150.0 MB)\n",
      "   ---------------------------------------- 0.0/150.0 MB ? eta -:--:--\n",
      "   - -------------------------------------- 5.0/150.0 MB 27.7 MB/s eta 0:00:06\n",
      "   --- ------------------------------------ 11.3/150.0 MB 29.4 MB/s eta 0:00:05\n",
      "   ---- ----------------------------------- 17.0/150.0 MB 28.7 MB/s eta 0:00:05\n",
      "   ------ --------------------------------- 23.3/150.0 MB 29.2 MB/s eta 0:00:05\n",
      "   -------- ------------------------------- 30.1/150.0 MB 29.5 MB/s eta 0:00:05\n",
      "   --------- ------------------------------ 36.7/150.0 MB 29.8 MB/s eta 0:00:04\n",
      "   ---------- ----------------------------- 37.7/150.0 MB 29.8 MB/s eta 0:00:04\n",
      "   ----------- ---------------------------- 43.8/150.0 MB 26.5 MB/s eta 0:00:05\n",
      "   ------------- -------------------------- 50.6/150.0 MB 27.3 MB/s eta 0:00:04\n",
      "   --------------- ------------------------ 57.1/150.0 MB 27.6 MB/s eta 0:00:04\n",
      "   ----------------- ---------------------- 64.5/150.0 MB 28.3 MB/s eta 0:00:04\n",
      "   ------------------- -------------------- 71.8/150.0 MB 28.9 MB/s eta 0:00:03\n",
      "   --------------------- ------------------ 79.2/150.0 MB 29.3 MB/s eta 0:00:03\n",
      "   ----------------------- ---------------- 86.5/150.0 MB 29.7 MB/s eta 0:00:03\n",
      "   ------------------------ --------------- 91.2/150.0 MB 29.8 MB/s eta 0:00:02\n",
      "   ------------------------- -------------- 95.4/150.0 MB 28.6 MB/s eta 0:00:02\n",
      "   -------------------------- ------------ 101.7/150.0 MB 28.9 MB/s eta 0:00:02\n",
      "   --------------------------- ----------- 104.1/150.0 MB 27.7 MB/s eta 0:00:02\n",
      "   ---------------------------- ---------- 109.1/150.0 MB 27.9 MB/s eta 0:00:02\n",
      "   ----------------------------- --------- 111.7/150.0 MB 26.7 MB/s eta 0:00:02\n",
      "   ----------------------------- --------- 115.3/150.0 MB 26.8 MB/s eta 0:00:02\n",
      "   ------------------------------- ------- 121.4/150.0 MB 26.4 MB/s eta 0:00:02\n",
      "   --------------------------------- ----- 128.7/150.0 MB 26.8 MB/s eta 0:00:01\n",
      "   ----------------------------------- --- 136.1/150.0 MB 27.2 MB/s eta 0:00:01\n",
      "   ------------------------------------- - 143.4/150.0 MB 27.5 MB/s eta 0:00:01\n",
      "   --------------------------------------  149.9/150.0 MB 27.8 MB/s eta 0:00:01\n",
      "   --------------------------------------  149.9/150.0 MB 27.8 MB/s eta 0:00:01\n",
      "   --------------------------------------  149.9/150.0 MB 27.8 MB/s eta 0:00:01\n",
      "   --------------------------------------  149.9/150.0 MB 27.8 MB/s eta 0:00:01\n",
      "   --------------------------------------- 150.0/150.0 MB 24.7 MB/s eta 0:00:00\n",
      "Installing collected packages: xgboost\n",
      "Successfully installed xgboost-3.0.2\n"
     ]
    },
    {
     "name": "stderr",
     "output_type": "stream",
     "text": [
      "\n",
      "[notice] A new release of pip is available: 25.0.1 -> 25.1.1\n",
      "[notice] To update, run: python.exe -m pip install --upgrade pip\n"
     ]
    }
   ],
   "source": [
    "!pip install xgboost"
   ]
  },
  {
   "cell_type": "code",
   "execution_count": null,
   "id": "eafce6bb-2476-4755-a105-6b2fac48a3c9",
   "metadata": {},
   "outputs": [],
   "source": []
  }
 ],
 "metadata": {
  "kernelspec": {
   "display_name": "Python 3 (ipykernel)",
   "language": "python",
   "name": "python3"
  },
  "language_info": {
   "codemirror_mode": {
    "name": "ipython",
    "version": 3
   },
   "file_extension": ".py",
   "mimetype": "text/x-python",
   "name": "python",
   "nbconvert_exporter": "python",
   "pygments_lexer": "ipython3",
   "version": "3.13.2"
  }
 },
 "nbformat": 4,
 "nbformat_minor": 5
}
